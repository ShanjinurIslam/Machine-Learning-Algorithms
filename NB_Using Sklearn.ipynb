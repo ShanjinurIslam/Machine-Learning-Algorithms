{
 "cells": [
  {
   "cell_type": "code",
   "execution_count": 1,
   "metadata": {},
   "outputs": [],
   "source": [
    "#Import required python modules\n",
    "import numpy as np \n",
    "import matplotlib.pyplot as plt \n",
    "from sklearn.naive_bayes import GaussianNB"
   ]
  },
  {
   "cell_type": "code",
   "execution_count": 23,
   "metadata": {},
   "outputs": [],
   "source": [
    "#load data from file\n",
    "#data = np.genfromtxt('iris.csv', delimiter=',',skip_header=True)\n",
    "#trainingDataCount = 80\n",
    "\n",
    "data = np.genfromtxt('iris_multiclass.csv', delimiter=',',skip_header=True)\n",
    "trainingDataCount = 120\n",
    "\n",
    "input_columns = [0,1,2,3]\n",
    "output_column = [5]\n",
    "\n",
    "\n",
    "#Distribute data into train and test sets\n",
    "X_train = data[:trainingDataCount,input_columns]\n",
    "Y_train = data[:trainingDataCount,output_column]\n",
    "\n",
    "X_test = data[trainingDataCount:,input_columns]\n",
    "Y_test = data[trainingDataCount:,output_column]\n"
   ]
  },
  {
   "cell_type": "code",
   "execution_count": 24,
   "metadata": {},
   "outputs": [],
   "source": [
    "#Flatten the 2D column vector into 1D array\n",
    "Y_train = Y_train.ravel()\n",
    "Y_test = Y_test.ravel()"
   ]
  },
  {
   "cell_type": "code",
   "execution_count": 25,
   "metadata": {},
   "outputs": [
    {
     "data": {
      "text/plain": [
       "GaussianNB(priors=None, var_smoothing=1e-09)"
      ]
     },
     "execution_count": 25,
     "metadata": {},
     "output_type": "execute_result"
    }
   ],
   "source": [
    "#Generate the model\n",
    "model = GaussianNB()\n",
    "model.fit(X_train, Y_train)"
   ]
  },
  {
   "cell_type": "code",
   "execution_count": 27,
   "metadata": {},
   "outputs": [
    {
     "name": "stdout",
     "output_type": "stream",
     "text": [
      "[3.]\n",
      "[[4.52312536e-45 3.23533258e-03 9.96764667e-01]]\n"
     ]
    }
   ],
   "source": [
    "#Check for an example scenario\n",
    "example_input = [[1,1,3.5,1]]\n",
    "#example_input = [[5.2,2.9]]\n",
    "print(model.predict(example_input))\n",
    "print(model.predict_proba(example_input))"
   ]
  },
  {
   "cell_type": "code",
   "execution_count": 28,
   "metadata": {},
   "outputs": [
    {
     "name": "stdout",
     "output_type": "stream",
     "text": [
      "0.9\n"
     ]
    }
   ],
   "source": [
    "#Calculate the performance of the model using model defined score function\n",
    "print(model.score(X_test,Y_test))"
   ]
  },
  {
   "cell_type": "code",
   "execution_count": 29,
   "metadata": {},
   "outputs": [
    {
     "name": "stdout",
     "output_type": "stream",
     "text": [
      "Total Correct Count:  27  Total Wrong Count:  3  Accuracy:  90.0\n"
     ]
    }
   ],
   "source": [
    "#Calculate the performance of the model using model defined predict function\n",
    "resultMatrix = model.predict(X_test).reshape(-1,1)\n",
    "Y_test = Y_test.reshape(-1,1)\n",
    "correctCount = np.sum((resultMatrix==Y_test).astype(int))\n",
    "totalCount = len(X_test)\n",
    "print(\"Total Correct Count: \",correctCount,\" Total Wrong Count: \",totalCount-correctCount,\" Accuracy: \",(correctCount*100)/(totalCount))"
   ]
  },
  {
   "cell_type": "code",
   "execution_count": 30,
   "metadata": {},
   "outputs": [
    {
     "name": "stdout",
     "output_type": "stream",
     "text": [
      "Number of training samples observed in each class:  [45. 45. 30.]\n",
      "Prior probability of each class:  [0.375 0.375 0.25 ]\n",
      "Class labels in the training examples:  [1. 2. 3.]\n",
      "Mean of each feature per class:  [[5.01111111 3.42       1.46444444 0.24666667]\n",
      " [5.87777778 2.75333333 4.22888889 1.31333333]\n",
      " [6.58333333 2.93333333 5.60333333 2.00666667]]\n",
      "Variance of each feature per class:  [[0.12854321 0.14782223 0.03206914 0.01226667]\n",
      " [0.22483951 0.09137778 0.22072099 0.04026667]\n",
      " [0.45872223 0.10822223 0.37965556 0.06328889]]\n"
     ]
    }
   ],
   "source": [
    "print(\"Number of training samples observed in each class: \", model.class_count_)\n",
    "print(\"Prior probability of each class: \",model.class_prior_)\n",
    "print(\"Class labels in the training examples: \", model.classes_)\n",
    "print(\"Mean of each feature per class: \",model.theta_)\n",
    "print(\"Variance of each feature per class: \",  model.sigma_)"
   ]
  },
  {
   "cell_type": "code",
   "execution_count": null,
   "metadata": {},
   "outputs": [],
   "source": []
  }
 ],
 "metadata": {
  "kernelspec": {
   "display_name": "Python 3",
   "language": "python",
   "name": "python3"
  },
  "language_info": {
   "codemirror_mode": {
    "name": "ipython",
    "version": 3
   },
   "file_extension": ".py",
   "mimetype": "text/x-python",
   "name": "python",
   "nbconvert_exporter": "python",
   "pygments_lexer": "ipython3",
   "version": "3.7.2"
  }
 },
 "nbformat": 4,
 "nbformat_minor": 2
}
