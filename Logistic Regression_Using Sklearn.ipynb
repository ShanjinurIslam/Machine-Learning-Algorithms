{
 "cells": [
  {
   "cell_type": "code",
   "execution_count": 1,
   "metadata": {},
   "outputs": [],
   "source": [
    "#Import required python modules\n",
    "import numpy as np \n",
    "from sklearn import linear_model  "
   ]
  },
  {
   "cell_type": "code",
   "execution_count": 2,
   "metadata": {},
   "outputs": [],
   "source": [
    "#load data from file\n",
    "data = np.genfromtxt('iris.csv', delimiter=',',skip_header=True)\n",
    "\n",
    "#Distribute data into train and test sets\n",
    "X_train = data[:80,[0,1,2,3]]\n",
    "Y_train = data[:80,5]\n",
    "\n",
    "X_test = data[-20:,[0,1,2,3]]\n",
    "Y_test = data[-20:,5]\n"
   ]
  },
  {
   "cell_type": "code",
   "execution_count": 3,
   "metadata": {},
   "outputs": [
    {
     "data": {
      "text/plain": [
       "LogisticRegression(C=1.0, class_weight=None, dual=False, fit_intercept=True,\n",
       "          intercept_scaling=1, max_iter=1000, multi_class='warn',\n",
       "          n_jobs=None, penalty='l2', random_state=None, solver='liblinear',\n",
       "          tol=0.0001, verbose=0, warm_start=False)"
      ]
     },
     "execution_count": 3,
     "metadata": {},
     "output_type": "execute_result"
    }
   ],
   "source": [
    "#Generate the model\n",
    "model = linear_model.LogisticRegression(solver='liblinear',max_iter=1000)\n",
    "model.fit(X_train, Y_train)"
   ]
  },
  {
   "cell_type": "code",
   "execution_count": 5,
   "metadata": {},
   "outputs": [
    {
     "name": "stdout",
     "output_type": "stream",
     "text": [
      "Total Correct Count:  20  Total Wrong Count:  0  Accuracy:  100.0\n"
     ]
    }
   ],
   "source": [
    "#Calculate the performance of the model\n",
    "resultMatrix = model.predict(X_test)\n",
    "correctCount = sum((resultMatrix==Y_test).astype(int))\n",
    "totalCount = len(X_test)\n",
    "print(\"Total Correct Count: \",correctCount,\" Total Wrong Count: \",totalCount-correctCount,\" Accuracy: \",(correctCount*100)/(totalCount))"
   ]
  },
  {
   "cell_type": "code",
   "execution_count": 6,
   "metadata": {},
   "outputs": [
    {
     "name": "stdout",
     "output_type": "stream",
     "text": [
      "[0.25208211] [[ 0.37190106  1.38873428 -2.09316398 -0.94874002]]\n"
     ]
    }
   ],
   "source": [
    "#Model Properties\n",
    "print(model.intercept_, model.coef_)"
   ]
  },
  {
   "cell_type": "code",
   "execution_count": 8,
   "metadata": {},
   "outputs": [
    {
     "name": "stdout",
     "output_type": "stream",
     "text": [
      "[0.01165654 0.01379023 0.02956003 0.07239257 0.01907083 0.03255726\n",
      " 0.02594716 0.02536311 0.15413998 0.02778825 0.98141102 0.89225557\n",
      " 0.96837083 0.95494849 0.95561528 0.95204542 0.9799084  0.96396621\n",
      " 0.98257003 0.97272771]\n"
     ]
    }
   ],
   "source": [
    "#Predicted values for the test set\n",
    "print(model.predict_proba(X_test)[:,1])"
   ]
  },
  {
   "cell_type": "code",
   "execution_count": null,
   "metadata": {},
   "outputs": [],
   "source": []
  }
 ],
 "metadata": {
  "kernelspec": {
   "display_name": "Python 3",
   "language": "python",
   "name": "python3"
  },
  "language_info": {
   "codemirror_mode": {
    "name": "ipython",
    "version": 3
   },
   "file_extension": ".py",
   "mimetype": "text/x-python",
   "name": "python",
   "nbconvert_exporter": "python",
   "pygments_lexer": "ipython3",
   "version": "3.7.2"
  }
 },
 "nbformat": 4,
 "nbformat_minor": 2
}
