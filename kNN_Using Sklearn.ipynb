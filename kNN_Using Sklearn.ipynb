{
 "cells": [
  {
   "cell_type": "code",
   "execution_count": 1,
   "metadata": {},
   "outputs": [],
   "source": [
    "#Import required python modules\n",
    "import numpy as np \n",
    "import matplotlib.pyplot as plt \n",
    "from sklearn.neighbors import KNeighborsClassifier"
   ]
  },
  {
   "cell_type": "code",
   "execution_count": 2,
   "metadata": {},
   "outputs": [],
   "source": [
    "#load data from file\n",
    "data = np.genfromtxt('iris.csv', delimiter=',',skip_header=True)\n",
    "\n",
    "input_columns = [0,1]\n",
    "output_column = [5]\n",
    "\n",
    "#Distribute data into train and test sets\n",
    "X_train = data[:80,input_columns]\n",
    "Y_train = data[:80,output_column]\n",
    "\n",
    "X_test = data[-20:,input_columns]\n",
    "Y_test = data[-20:,output_column]\n"
   ]
  },
  {
   "cell_type": "code",
   "execution_count": 3,
   "metadata": {},
   "outputs": [
    {
     "name": "stderr",
     "output_type": "stream",
     "text": [
      "c:\\users\\user\\appdata\\local\\programs\\python\\python37\\lib\\site-packages\\ipykernel_launcher.py:3: DataConversionWarning: A column-vector y was passed when a 1d array was expected. Please change the shape of y to (n_samples, ), for example using ravel().\n",
      "  This is separate from the ipykernel package so we can avoid doing imports until\n"
     ]
    },
    {
     "data": {
      "text/plain": [
       "KNeighborsClassifier(algorithm='auto', leaf_size=30, metric='minkowski',\n",
       "           metric_params=None, n_jobs=None, n_neighbors=3, p=2,\n",
       "           weights='uniform')"
      ]
     },
     "execution_count": 3,
     "metadata": {},
     "output_type": "execute_result"
    }
   ],
   "source": [
    "#Generate the model\n",
    "model = KNeighborsClassifier(n_neighbors=3,p=2)\n",
    "model.fit(X_train, Y_train)"
   ]
  },
  {
   "cell_type": "code",
   "execution_count": 4,
   "metadata": {},
   "outputs": [
    {
     "name": "stdout",
     "output_type": "stream",
     "text": [
      "[0.]\n",
      "[[0.66666667 0.33333333]]\n"
     ]
    }
   ],
   "source": [
    "#Check for an example scenario\n",
    "#example_input = [[1,1,3.5,1]]\n",
    "example_input = [[5.2,2.9]]\n",
    "print(model.predict(example_input))\n",
    "print(model.predict_proba(example_input))"
   ]
  },
  {
   "cell_type": "code",
   "execution_count": 5,
   "metadata": {},
   "outputs": [
    {
     "name": "stdout",
     "output_type": "stream",
     "text": [
      "0.95\n"
     ]
    }
   ],
   "source": [
    "#Calculate the performance of the model using model defined score function\n",
    "print(model.score(X_test,Y_test))"
   ]
  },
  {
   "cell_type": "code",
   "execution_count": 1,
   "metadata": {},
   "outputs": [
    {
     "ename": "NameError",
     "evalue": "name 'model' is not defined",
     "output_type": "error",
     "traceback": [
      "\u001b[1;31m---------------------------------------------------------------------------\u001b[0m",
      "\u001b[1;31mNameError\u001b[0m                                 Traceback (most recent call last)",
      "\u001b[1;32m<ipython-input-1-7c6fbf6ad0f3>\u001b[0m in \u001b[0;36m<module>\u001b[1;34m\u001b[0m\n\u001b[0;32m      1\u001b[0m \u001b[1;31m#Calculate the performance of the model using model defined predict function\u001b[0m\u001b[1;33m\u001b[0m\u001b[1;33m\u001b[0m\u001b[1;33m\u001b[0m\u001b[0m\n\u001b[1;32m----> 2\u001b[1;33m \u001b[0mresultMatrix\u001b[0m \u001b[1;33m=\u001b[0m \u001b[0mmodel\u001b[0m\u001b[1;33m.\u001b[0m\u001b[0mpredict\u001b[0m\u001b[1;33m(\u001b[0m\u001b[0mX_test\u001b[0m\u001b[1;33m)\u001b[0m\u001b[1;33m.\u001b[0m\u001b[0mreshape\u001b[0m\u001b[1;33m(\u001b[0m\u001b[1;33m-\u001b[0m\u001b[1;36m1\u001b[0m\u001b[1;33m,\u001b[0m\u001b[1;36m1\u001b[0m\u001b[1;33m)\u001b[0m\u001b[1;33m\u001b[0m\u001b[1;33m\u001b[0m\u001b[0m\n\u001b[0m\u001b[0;32m      3\u001b[0m \u001b[0mprint\u001b[0m\u001b[1;33m(\u001b[0m\u001b[0mresultMatrix\u001b[0m\u001b[1;33m.\u001b[0m\u001b[0mshape\u001b[0m\u001b[1;33m)\u001b[0m\u001b[1;33m\u001b[0m\u001b[1;33m\u001b[0m\u001b[0m\n\u001b[0;32m      4\u001b[0m \u001b[0mcorrectCount\u001b[0m \u001b[1;33m=\u001b[0m \u001b[0msum\u001b[0m\u001b[1;33m(\u001b[0m\u001b[1;33m(\u001b[0m\u001b[0mresultMatrix\u001b[0m\u001b[1;33m==\u001b[0m\u001b[0mY_test\u001b[0m\u001b[1;33m)\u001b[0m\u001b[1;33m.\u001b[0m\u001b[0mastype\u001b[0m\u001b[1;33m(\u001b[0m\u001b[0mint\u001b[0m\u001b[1;33m)\u001b[0m\u001b[1;33m)\u001b[0m\u001b[1;33m\u001b[0m\u001b[1;33m\u001b[0m\u001b[0m\n\u001b[0;32m      5\u001b[0m \u001b[0mtotalCount\u001b[0m \u001b[1;33m=\u001b[0m \u001b[0mlen\u001b[0m\u001b[1;33m(\u001b[0m\u001b[0mX_test\u001b[0m\u001b[1;33m)\u001b[0m\u001b[1;33m\u001b[0m\u001b[1;33m\u001b[0m\u001b[0m\n",
      "\u001b[1;31mNameError\u001b[0m: name 'model' is not defined"
     ]
    }
   ],
   "source": [
    "#Calculate the performance of the model using model defined predict function\n",
    "resultMatrix = model.predict(X_test).reshape(-1,1)\n",
    "print(resultMatrix.shape)\n",
    "correctCount = sum((resultMatrix==Y_test).astype(int))\n",
    "totalCount = len(X_test)\n",
    "print(\"Total Correct Count: \",correctCount,\" Total Wrong Count: \",totalCount-correctCount,\" Accuracy: \",(correctCount*100)/(totalCount))"
   ]
  },
  {
   "cell_type": "code",
   "execution_count": 19,
   "metadata": {},
   "outputs": [
    {
     "data": {
      "image/png": "[encoded data removed]",
      "text/plain": [
       "<Figure size 432x288 with 1 Axes>"
      ]
     },
     "metadata": {
      "needs_background": "light"
     },
     "output_type": "display_data"
    }
   ],
   "source": [
    "#Plot to show points\n",
    "def setFigureValues(numberOfNeighborsToShow=3,showNeighbors=False):\n",
    "    plt.title('Test Data') \n",
    "    plt.xlabel('Input Dimension 1') \n",
    "    plt.ylabel('Input Dimension 2') \n",
    "    plt.xticks() \n",
    "    plt.yticks() \n",
    "\n",
    "    axes = plt.gca()\n",
    "    class0_inputDim1 = [pointX[0] for pointX, pointY in zip(X_train,Y_train) if pointY==0]\n",
    "    class0_inputDim2 = [pointX[1] for pointX, pointY in zip(X_train,Y_train) if pointY==0]\n",
    "    class1_inputDim1 = [pointX[0] for pointX, pointY in zip(X_train,Y_train) if pointY==1]\n",
    "    class1_inputDim2 = [pointX[1] for pointX, pointY in zip(X_train,Y_train) if pointY==1]\n",
    "    \n",
    "    plt.scatter(class0_inputDim1,class0_inputDim2,color='green')\n",
    "    plt.scatter(class1_inputDim1,class1_inputDim2,color='red') \n",
    "    plt.scatter(example_input[0][0],example_input[0][1], s=100, color='blue')\n",
    "    \n",
    "    if showNeighbors == True:\n",
    "        #The n_neighbors in the following line is to show the nearest neighbors as specified. However, the number \n",
    "        #of neighbors that should be used to take decision is the one given during the model construction\n",
    "        neighbors_inputDim1=[X_train[r][:,0] for r in model.kneighbors(example_input,n_neighbors=numberOfNeighborsToShow)[1]]\n",
    "        neighbors_inputDim2=[X_train[r][:,1] for r in model.kneighbors(example_input,n_neighbors=numberOfNeighborsToShow)[1]]\n",
    "        plt.scatter(neighbors_inputDim1,neighbors_inputDim2, s=100, color='violet')\n",
    "        \n",
    "\n",
    "    \n",
    "    plt.savefig(\"Output.png\")\n",
    "    \n",
    "\n",
    "setFigureValues(25,True)\n",
    "#plt.scatter(example_input, regr.predict(X_test_Sample), s=100, color='red')\n",
    "#plt.scatter(example_input, regr.predict(X_test_Sample), s=100, color='red')\n"
   ]
  },
  {
   "cell_type": "code",
   "execution_count": 82,
   "metadata": {},
   "outputs": [
    {
     "name": "stdout",
     "output_type": "stream",
     "text": [
      "(array([[0.        , 0.36055513, 0.36055513, 0.36055513, 0.42426407]]), array([[49, 74, 25, 79,  1]], dtype=int64))\n"
     ]
    }
   ],
   "source": [
    "print(model.kneighbors(example_input,n_neighbors=5))\n"
   ]
  },
  {
   "cell_type": "code",
   "execution_count": null,
   "metadata": {},
   "outputs": [],
   "source": []
  }
 ],
 "metadata": {
  "kernelspec": {
   "display_name": "Python 3",
   "language": "python",
   "name": "python3"
  },
  "language_info": {
   "codemirror_mode": {
    "name": "ipython",
    "version": 3
   },
   "file_extension": ".py",
   "mimetype": "text/x-python",
   "name": "python",
   "nbconvert_exporter": "python",
   "pygments_lexer": "ipython3",
   "version": "3.7.2"
  }
 },
 "nbformat": 4,
 "nbformat_minor": 2
}
